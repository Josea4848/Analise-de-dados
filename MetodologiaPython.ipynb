{
  "nbformat": 4,
  "nbformat_minor": 0,
  "metadata": {
    "colab": {
      "provenance": [],
      "toc_visible": true,
      "mount_file_id": "1hY7ffLu22bEGjdY6TzTPDutw8pC71NB7",
      "authorship_tag": "ABX9TyP/dWCX87Y/Oz60CCTnbWzi",
      "include_colab_link": true
    },
    "kernelspec": {
      "name": "python3",
      "display_name": "Python 3"
    },
    "language_info": {
      "name": "python"
    }
  },
  "cells": [
    {
      "cell_type": "markdown",
      "metadata": {
        "id": "view-in-github",
        "colab_type": "text"
      },
      "source": [
        "<a href=\"https://colab.research.google.com/github/Josea4848/Aula-01/blob/master/MetodologiaPython.ipynb\" target=\"_parent\"><img src=\"https://colab.research.google.com/assets/colab-badge.svg\" alt=\"Open In Colab\"/></a>"
      ]
    },
    {
      "cell_type": "markdown",
      "source": [
        "Importação do Pandas, extração e filtragem do dataset"
      ],
      "metadata": {
        "id": "Cc7T7LC1W1F-"
      }
    },
    {
      "cell_type": "code",
      "source": [
        "import pandas as pd\n",
        "\n",
        "\n",
        "dados = pd.read_excel(\"/content/drive/MyDrive/Colab Notebooks/Analise Python/Base/database.xlsx\")\n",
        "#Tratando dados NaN\n",
        "dados['Com que fim você utiliza Python?'] = dados['Com que fim você utiliza Python?'].fillna(0)\n",
        "#Filtrando planilha, apenas quem programa/programou em Python participa\n",
        "filtro = dados.loc[dados['Você programa ou já programou em Python?'] == 'Sim']\n",
        "\n",
        "filtro"
      ],
      "metadata": {
        "id": "kgr1qV9WDSxw",
        "colab": {
          "base_uri": "https://localhost:8080/",
          "height": 657
        },
        "outputId": "dabf3a61-807c-4c36-f6db-44b466c8e963"
      },
      "execution_count": null,
      "outputs": [
        {
          "output_type": "execute_result",
          "data": {
            "text/plain": [
              "      Carimbo de data/hora Você aceita fornecer dados para essa pesquisa?  \\\n",
              "0  2022-11-29 23:46:23.966                                            Sim   \n",
              "1  2022-11-30 06:52:34.096                                            Sim   \n",
              "3  2022-11-30 07:45:20.793                                            Sim   \n",
              "4  2022-11-30 12:17:36.516                                            Sim   \n",
              "5  2022-11-30 19:00:29.314                                            Sim   \n",
              "8  2022-11-30 22:35:37.426                                            Sim   \n",
              "9  2022-11-30 23:18:30.369                                            Sim   \n",
              "10 2022-11-30 23:24:09.507                                            Sim   \n",
              "\n",
              "   Você programa ou já programou em Python?  \\\n",
              "0                                       Sim   \n",
              "1                                       Sim   \n",
              "3                                       Sim   \n",
              "4                                       Sim   \n",
              "5                                       Sim   \n",
              "8                                       Sim   \n",
              "9                                       Sim   \n",
              "10                                      Sim   \n",
              "\n",
              "   Você começou na programação com a linguagem Python?   \\\n",
              "0                                                 Sim     \n",
              "1                                                 Não     \n",
              "3                                                 Não     \n",
              "4                                                 Sim     \n",
              "5                                                 Sim     \n",
              "8                                                 Não     \n",
              "9                                                 Sim     \n",
              "10                                                Sim     \n",
              "\n",
              "   Em sua opinião, qual foi a dificuldade de aprender a programar Python?  \\\n",
              "0                                               Fácil                       \n",
              "1                                               Fácil                       \n",
              "3                                         Muito Fácil                       \n",
              "4                                         Muito Fácil                       \n",
              "5                                               Fácil                       \n",
              "8                                       Intermediária                       \n",
              "9                                       Intermediária                       \n",
              "10                                      Intermediária                       \n",
              "\n",
              "   Em sua opinião, qual é a dificuldade de programar em Python?  \\\n",
              "0                                       Intermediária             \n",
              "1                                       Intermediária             \n",
              "3                                         Muito Fácil             \n",
              "4                                         Muito Fácil             \n",
              "5                                       Intermediária             \n",
              "8                                               Fácil             \n",
              "9                                         Muito Fácil             \n",
              "10                                      Intermediária             \n",
              "\n",
              "   Em sua opinião, quais as vantagens de programar em Python?  \\\n",
              "0   Sintaxe simples, Comunidade com alta interativ...           \n",
              "1   Sintaxe simples, Agilidade de código com o uso...           \n",
              "3   Comunidade com alta interatividade, Agilidade ...           \n",
              "4   Sintaxe simples, Comunidade com alta interativ...           \n",
              "5   Sintaxe simples, Comunidade com alta interativ...           \n",
              "8                                     Sintaxe simples           \n",
              "9   Sintaxe simples, Comunidade com alta interativ...           \n",
              "10  Sintaxe simples, Comunidade com alta interativ...           \n",
              "\n",
              "                     Com que fim você utiliza Python?  \n",
              "0          Análise de dados e Inteligência Artificial  \n",
              "1   Desenvolvimento Web, Análise de dados e Inteli...  \n",
              "3          Análise de dados e Inteligência Artificial  \n",
              "4                                                   0  \n",
              "5                                                   0  \n",
              "8          Análise de dados e Inteligência Artificial  \n",
              "9          Análise de dados e Inteligência Artificial  \n",
              "10         Análise de dados e Inteligência Artificial  "
            ],
            "text/html": [
              "\n",
              "  <div id=\"df-8c7b286e-d62c-45ef-adda-ddd08c7d6fcf\">\n",
              "    <div class=\"colab-df-container\">\n",
              "      <div>\n",
              "<style scoped>\n",
              "    .dataframe tbody tr th:only-of-type {\n",
              "        vertical-align: middle;\n",
              "    }\n",
              "\n",
              "    .dataframe tbody tr th {\n",
              "        vertical-align: top;\n",
              "    }\n",
              "\n",
              "    .dataframe thead th {\n",
              "        text-align: right;\n",
              "    }\n",
              "</style>\n",
              "<table border=\"1\" class=\"dataframe\">\n",
              "  <thead>\n",
              "    <tr style=\"text-align: right;\">\n",
              "      <th></th>\n",
              "      <th>Carimbo de data/hora</th>\n",
              "      <th>Você aceita fornecer dados para essa pesquisa?</th>\n",
              "      <th>Você programa ou já programou em Python?</th>\n",
              "      <th>Você começou na programação com a linguagem Python?</th>\n",
              "      <th>Em sua opinião, qual foi a dificuldade de aprender a programar Python?</th>\n",
              "      <th>Em sua opinião, qual é a dificuldade de programar em Python?</th>\n",
              "      <th>Em sua opinião, quais as vantagens de programar em Python?</th>\n",
              "      <th>Com que fim você utiliza Python?</th>\n",
              "    </tr>\n",
              "  </thead>\n",
              "  <tbody>\n",
              "    <tr>\n",
              "      <th>0</th>\n",
              "      <td>2022-11-29 23:46:23.966</td>\n",
              "      <td>Sim</td>\n",
              "      <td>Sim</td>\n",
              "      <td>Sim</td>\n",
              "      <td>Fácil</td>\n",
              "      <td>Intermediária</td>\n",
              "      <td>Sintaxe simples, Comunidade com alta interativ...</td>\n",
              "      <td>Análise de dados e Inteligência Artificial</td>\n",
              "    </tr>\n",
              "    <tr>\n",
              "      <th>1</th>\n",
              "      <td>2022-11-30 06:52:34.096</td>\n",
              "      <td>Sim</td>\n",
              "      <td>Sim</td>\n",
              "      <td>Não</td>\n",
              "      <td>Fácil</td>\n",
              "      <td>Intermediária</td>\n",
              "      <td>Sintaxe simples, Agilidade de código com o uso...</td>\n",
              "      <td>Desenvolvimento Web, Análise de dados e Inteli...</td>\n",
              "    </tr>\n",
              "    <tr>\n",
              "      <th>3</th>\n",
              "      <td>2022-11-30 07:45:20.793</td>\n",
              "      <td>Sim</td>\n",
              "      <td>Sim</td>\n",
              "      <td>Não</td>\n",
              "      <td>Muito Fácil</td>\n",
              "      <td>Muito Fácil</td>\n",
              "      <td>Comunidade com alta interatividade, Agilidade ...</td>\n",
              "      <td>Análise de dados e Inteligência Artificial</td>\n",
              "    </tr>\n",
              "    <tr>\n",
              "      <th>4</th>\n",
              "      <td>2022-11-30 12:17:36.516</td>\n",
              "      <td>Sim</td>\n",
              "      <td>Sim</td>\n",
              "      <td>Sim</td>\n",
              "      <td>Muito Fácil</td>\n",
              "      <td>Muito Fácil</td>\n",
              "      <td>Sintaxe simples, Comunidade com alta interativ...</td>\n",
              "      <td>0</td>\n",
              "    </tr>\n",
              "    <tr>\n",
              "      <th>5</th>\n",
              "      <td>2022-11-30 19:00:29.314</td>\n",
              "      <td>Sim</td>\n",
              "      <td>Sim</td>\n",
              "      <td>Sim</td>\n",
              "      <td>Fácil</td>\n",
              "      <td>Intermediária</td>\n",
              "      <td>Sintaxe simples, Comunidade com alta interativ...</td>\n",
              "      <td>0</td>\n",
              "    </tr>\n",
              "    <tr>\n",
              "      <th>8</th>\n",
              "      <td>2022-11-30 22:35:37.426</td>\n",
              "      <td>Sim</td>\n",
              "      <td>Sim</td>\n",
              "      <td>Não</td>\n",
              "      <td>Intermediária</td>\n",
              "      <td>Fácil</td>\n",
              "      <td>Sintaxe simples</td>\n",
              "      <td>Análise de dados e Inteligência Artificial</td>\n",
              "    </tr>\n",
              "    <tr>\n",
              "      <th>9</th>\n",
              "      <td>2022-11-30 23:18:30.369</td>\n",
              "      <td>Sim</td>\n",
              "      <td>Sim</td>\n",
              "      <td>Sim</td>\n",
              "      <td>Intermediária</td>\n",
              "      <td>Muito Fácil</td>\n",
              "      <td>Sintaxe simples, Comunidade com alta interativ...</td>\n",
              "      <td>Análise de dados e Inteligência Artificial</td>\n",
              "    </tr>\n",
              "    <tr>\n",
              "      <th>10</th>\n",
              "      <td>2022-11-30 23:24:09.507</td>\n",
              "      <td>Sim</td>\n",
              "      <td>Sim</td>\n",
              "      <td>Sim</td>\n",
              "      <td>Intermediária</td>\n",
              "      <td>Intermediária</td>\n",
              "      <td>Sintaxe simples, Comunidade com alta interativ...</td>\n",
              "      <td>Análise de dados e Inteligência Artificial</td>\n",
              "    </tr>\n",
              "  </tbody>\n",
              "</table>\n",
              "</div>\n",
              "      <button class=\"colab-df-convert\" onclick=\"convertToInteractive('df-8c7b286e-d62c-45ef-adda-ddd08c7d6fcf')\"\n",
              "              title=\"Convert this dataframe to an interactive table.\"\n",
              "              style=\"display:none;\">\n",
              "        \n",
              "  <svg xmlns=\"http://www.w3.org/2000/svg\" height=\"24px\"viewBox=\"0 0 24 24\"\n",
              "       width=\"24px\">\n",
              "    <path d=\"M0 0h24v24H0V0z\" fill=\"none\"/>\n",
              "    <path d=\"M18.56 5.44l.94 2.06.94-2.06 2.06-.94-2.06-.94-.94-2.06-.94 2.06-2.06.94zm-11 1L8.5 8.5l.94-2.06 2.06-.94-2.06-.94L8.5 2.5l-.94 2.06-2.06.94zm10 10l.94 2.06.94-2.06 2.06-.94-2.06-.94-.94-2.06-.94 2.06-2.06.94z\"/><path d=\"M17.41 7.96l-1.37-1.37c-.4-.4-.92-.59-1.43-.59-.52 0-1.04.2-1.43.59L10.3 9.45l-7.72 7.72c-.78.78-.78 2.05 0 2.83L4 21.41c.39.39.9.59 1.41.59.51 0 1.02-.2 1.41-.59l7.78-7.78 2.81-2.81c.8-.78.8-2.07 0-2.86zM5.41 20L4 18.59l7.72-7.72 1.47 1.35L5.41 20z\"/>\n",
              "  </svg>\n",
              "      </button>\n",
              "      \n",
              "  <style>\n",
              "    .colab-df-container {\n",
              "      display:flex;\n",
              "      flex-wrap:wrap;\n",
              "      gap: 12px;\n",
              "    }\n",
              "\n",
              "    .colab-df-convert {\n",
              "      background-color: #E8F0FE;\n",
              "      border: none;\n",
              "      border-radius: 50%;\n",
              "      cursor: pointer;\n",
              "      display: none;\n",
              "      fill: #1967D2;\n",
              "      height: 32px;\n",
              "      padding: 0 0 0 0;\n",
              "      width: 32px;\n",
              "    }\n",
              "\n",
              "    .colab-df-convert:hover {\n",
              "      background-color: #E2EBFA;\n",
              "      box-shadow: 0px 1px 2px rgba(60, 64, 67, 0.3), 0px 1px 3px 1px rgba(60, 64, 67, 0.15);\n",
              "      fill: #174EA6;\n",
              "    }\n",
              "\n",
              "    [theme=dark] .colab-df-convert {\n",
              "      background-color: #3B4455;\n",
              "      fill: #D2E3FC;\n",
              "    }\n",
              "\n",
              "    [theme=dark] .colab-df-convert:hover {\n",
              "      background-color: #434B5C;\n",
              "      box-shadow: 0px 1px 3px 1px rgba(0, 0, 0, 0.15);\n",
              "      filter: drop-shadow(0px 1px 2px rgba(0, 0, 0, 0.3));\n",
              "      fill: #FFFFFF;\n",
              "    }\n",
              "  </style>\n",
              "\n",
              "      <script>\n",
              "        const buttonEl =\n",
              "          document.querySelector('#df-8c7b286e-d62c-45ef-adda-ddd08c7d6fcf button.colab-df-convert');\n",
              "        buttonEl.style.display =\n",
              "          google.colab.kernel.accessAllowed ? 'block' : 'none';\n",
              "\n",
              "        async function convertToInteractive(key) {\n",
              "          const element = document.querySelector('#df-8c7b286e-d62c-45ef-adda-ddd08c7d6fcf');\n",
              "          const dataTable =\n",
              "            await google.colab.kernel.invokeFunction('convertToInteractive',\n",
              "                                                     [key], {});\n",
              "          if (!dataTable) return;\n",
              "\n",
              "          const docLinkHtml = 'Like what you see? Visit the ' +\n",
              "            '<a target=\"_blank\" href=https://colab.research.google.com/notebooks/data_table.ipynb>data table notebook</a>'\n",
              "            + ' to learn more about interactive tables.';\n",
              "          element.innerHTML = '';\n",
              "          dataTable['output_type'] = 'display_data';\n",
              "          await google.colab.output.renderOutput(dataTable, element);\n",
              "          const docLink = document.createElement('div');\n",
              "          docLink.innerHTML = docLinkHtml;\n",
              "          element.appendChild(docLink);\n",
              "        }\n",
              "      </script>\n",
              "    </div>\n",
              "  </div>\n",
              "  "
            ]
          },
          "metadata": {},
          "execution_count": 1
        }
      ]
    },
    {
      "cell_type": "code",
      "source": [
        "#dicionario\n",
        "fins = {'Análise de dados e Inteligência Artificial': 0, 'Desenvolvimento Web':0}\n",
        "\n",
        "respostas = list()\n",
        "\n",
        "#Adicionando respostas em uma lista\n",
        "for linha in filtro['Com que fim você utiliza Python?']:\n",
        "  if (linha != 0):\n",
        "    aux = linha.split(\", \")\n",
        "    for elemento in aux:\n",
        "      respostas.append(elemento)\n",
        "\n",
        "#Irá incrementar a quantidade de cada resposta\n",
        "for resp in respostas:\n",
        "  for key in fins.keys():\n",
        "    if (resp == key):\n",
        "      fins[key] += 1\n",
        "\n",
        "fins"
      ],
      "metadata": {
        "colab": {
          "base_uri": "https://localhost:8080/"
        },
        "id": "Wk4DIuJlE46b",
        "outputId": "09c25e2a-7e03-4fef-d595-bf65644c0792"
      },
      "execution_count": null,
      "outputs": [
        {
          "output_type": "execute_result",
          "data": {
            "text/plain": [
              "{'Análise de dados e Inteligência Artificial': 6, 'Desenvolvimento Web': 1}"
            ]
          },
          "metadata": {},
          "execution_count": 2
        }
      ]
    },
    {
      "cell_type": "code",
      "source": [
        "import matplotlib.pyplot as plt\n",
        "\n",
        "explode = (0.2, 0)\n",
        "\n",
        "fig, ax = plt.subplots(figsize = (12, 5))\n",
        "\n",
        "colors = ['#5d8ce3','#e35d71']\n",
        "\n",
        "ax.pie(fins.values(), labels = fins.keys(), explode=explode, shadow = True, autopct='%.1f%%', startangle = 30, colors = colors)\n",
        "ax.set_title('Uso da linguagem Python', fontsize=20, loc='center')\n",
        "\n",
        "plt.show()"
      ],
      "metadata": {
        "colab": {
          "base_uri": "https://localhost:8080/",
          "height": 324
        },
        "id": "t2eMtKrTAb74",
        "outputId": "feb8af49-518c-477f-e002-cc9c9865a13e"
      },
      "execution_count": null,
      "outputs": [
        {
          "output_type": "display_data",
          "data": {
            "text/plain": [
              "<Figure size 864x360 with 1 Axes>"
            ],
            "image/png": "[encoded data removed]"
          },
          "metadata": {}
        }
      ]
    },
    {
      "cell_type": "code",
      "source": [
        "#Dificuldade de aprender Python\n",
        "aprender = {'Muito Fácil':0, 'Fácil':0, 'Intermediária':0,'Difícil':0,'Muito Difícil': 0}\n",
        "#Dificuldade de programar em Python\n",
        "programar = {'Muito Fácil':0, 'Fácil':0, 'Intermediária':0,'Difícil':0,'Muito Difícil': 0}\n",
        "\n",
        "#Dicionário que armazenará duas listas, que contém a quantidade de respostas da dificuldade\n",
        "geral = {'Dificuldade de aprender':list(), 'Dificuldade de programar':list()}\n",
        "\n",
        "for linha in filtro['Em sua opinião, qual foi a dificuldade de aprender a programar Python?']:\n",
        "  aprender[linha] += 1\n",
        "\n",
        "geral['Dificuldade de aprender'] = list(aprender.values())\n",
        "\n",
        "for linha in filtro['Em sua opinião, qual é a dificuldade de programar em Python?']:\n",
        "  programar[linha] += 1\n",
        "\n",
        "geral['Dificuldade de programar'] = list(programar.values())"
      ],
      "metadata": {
        "id": "wXAXqimJGzJq"
      },
      "execution_count": null,
      "outputs": []
    },
    {
      "cell_type": "markdown",
      "source": [
        "Criando gráfico da dificuldade"
      ],
      "metadata": {
        "id": "vELz21j2OGQ6"
      }
    },
    {
      "cell_type": "code",
      "source": [
        "import numpy as np\n",
        "\n",
        "nomes_categorias = ['Muito Fácil', 'Fácil', 'Intermediária', 'Difícil', 'Muito Difícil']\n",
        "\n",
        "labels = list(geral.keys())\n",
        "\n",
        "plt.title('Dificuldade de aprender Python')\n",
        "plt.bar(nomes_categorias, geral['Dificuldade de aprender'], color=[\"#044f00\", \"#57e34f\", \"#eaed34\", \"#ed5c34\", \"#e80000\"])"
      ],
      "metadata": {
        "colab": {
          "base_uri": "https://localhost:8080/"
        },
        "id": "7HmSxDQCO7hF",
        "outputId": "e14b78b0-bd64-4015-d50d-0cba62f018f7"
      },
      "execution_count": null,
      "outputs": [
        {
          "output_type": "execute_result",
          "data": {
            "text/plain": [
              "<BarContainer object of 5 artists>"
            ]
          },
          "metadata": {},
          "execution_count": 6
        },
        {
          "output_type": "display_data",
          "data": {
            "text/plain": [
              "<Figure size 432x288 with 1 Axes>"
            ],
            "image/png": "[encoded data removed]"
          },
          "metadata": {
            "needs_background": "light"
          }
        }
      ]
    },
    {
      "cell_type": "markdown",
      "source": [
        "Analisando quantas pessoas começaram em Python\n"
      ],
      "metadata": {
        "id": "rpI2b4C1h7wQ"
      }
    },
    {
      "cell_type": "code",
      "source": [
        "comecou_em_python = {'Sim':0, 'Não':0}\n",
        "\n",
        "for linha in filtro['Você começou na programação com a linguagem Python? ']:\n",
        "  comecou_em_python[linha] += 1\n",
        "\n",
        "explode = (0.2, 0)\n",
        "\n",
        "fig, ax = plt.subplots(figsize = (12, 5))\n",
        "\n",
        "colors = ['#31cc31','#cc4b31']\n",
        "\n",
        "ax.pie(comecou_em_python.values(), labels = comecou_em_python.keys(), explode=explode, shadow = True, autopct='%.1f%%', startangle = 30, colors = colors)\n",
        "ax.set_title('Começaram com a linguagem Python', fontsize=20, loc='center')\n",
        "\n",
        "plt.show()\n",
        "\n"
      ],
      "metadata": {
        "colab": {
          "base_uri": "https://localhost:8080/",
          "height": 324
        },
        "id": "7kqRP8c2kDEj",
        "outputId": "2ffa4399-d869-4504-fa10-55827fabc9e2"
      },
      "execution_count": null,
      "outputs": [
        {
          "output_type": "display_data",
          "data": {
            "text/plain": [
              "<Figure size 864x360 with 1 Axes>"
            ],
            "image/png": "[encoded data removed]"
          },
          "metadata": {}
        }
      ]
    },
    {
      "cell_type": "markdown",
      "source": [
        "Vantagens do uso de Python"
      ],
      "metadata": {
        "id": "e2_zm911oOBF"
      }
    },
    {
      "cell_type": "code",
      "source": [
        "vantagens = dict()\n",
        "\n",
        "for linha in filtro['Em sua opinião, quais as vantagens de programar em Python?']:\n",
        "  lista = linha.split(', ')\n",
        "  for elem in lista:\n",
        "    if elem == 'Agilidade de código com o uso de bibliotecas (Ex: Pandas':\n",
        "      elem = elem.replace(\" (Ex: Pandas\", \"\")\n",
        "    if elem != 'Numpy' and elem != 'etc.)':\n",
        "      try:\n",
        "        vantagens[elem] += 1\n",
        "      except:\n",
        "        vantagens[elem] = 1\n",
        "\n",
        "\n",
        "import matplotlib.pyplot as plt\n",
        "\n",
        "explode = (0, 0.2, 0, 0)\n",
        "\n",
        "fig, ax = plt.subplots(figsize = (12, 5))\n",
        "\n",
        "colors = ['#5d8ce3','#c2d62d','#7c2dd6','#d62d5d']\n",
        "\n",
        "ax.pie(vantagens.values(), labels = vantagens.keys(), explode=explode, shadow = True, autopct='%.1f%%', startangle = 0, colors = colors)\n",
        "ax.set_title('Vantagens do uso de Python', fontsize=20, loc='center')\n",
        "\n",
        "plt.show()"
      ],
      "metadata": {
        "colab": {
          "base_uri": "https://localhost:8080/",
          "height": 324
        },
        "id": "ZUZ-Owr1o4Wq",
        "outputId": "d31171ac-9263-45c2-87bf-7cbf81c85e39"
      },
      "execution_count": null,
      "outputs": [
        {
          "output_type": "display_data",
          "data": {
            "text/plain": [
              "<Figure size 864x360 with 1 Axes>"
            ],
            "image/png": "[encoded data removed]"
          },
          "metadata": {}
        }
      ]
    },
    {
      "cell_type": "code",
      "source": [
        "vantagens"
      ],
      "metadata": {
        "colab": {
          "base_uri": "https://localhost:8080/"
        },
        "id": "YdC2oShqtkGS",
        "outputId": "b8645108-c543-4f59-c583-6759c4e07523"
      },
      "execution_count": null,
      "outputs": [
        {
          "output_type": "execute_result",
          "data": {
            "text/plain": [
              "{'Sintaxe simples': 7,\n",
              " 'Comunidade com alta interatividade': 6,\n",
              " 'Agilidade de código com o uso de bibliotecas': 5,\n",
              " 'Portabilidade': 1}"
            ]
          },
          "metadata": {},
          "execution_count": 10
        }
      ]
    }
  ]
}